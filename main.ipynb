{
 "cells": [
  {
   "cell_type": "code",
   "execution_count": 2,
   "metadata": {},
   "outputs": [
    {
     "name": "stdout",
     "output_type": "stream",
     "text": [
      "Collecting wiktextract\n",
      "\u001b[?25l  Downloading https://files.pythonhosted.org/packages/7f/d3/df57c0eec94287e07cedfb659decc761ef4b91667eda4cd52690db5021fe/wiktextract-0.2.0-py3-none-any.whl (54kB)\n",
      "\u001b[K     |████████████████████████████████| 61kB 300kB/s eta 0:00:01\n",
      "\u001b[?25hCollecting lxml\n",
      "\u001b[?25l  Downloading https://files.pythonhosted.org/packages/85/9e/93e2c3af278c7c8b6826666bbcb145af2829bd761c3b329e51cd6343836c/lxml-4.5.0-cp37-cp37m-manylinux1_x86_64.whl (5.7MB)\n",
      "\u001b[K     |████████████████████████████████| 5.7MB 3.6MB/s eta 0:00:01     |█████▊                          | 1.0MB 842kB/s eta 0:00:06     |█████████████████████████▎      | 4.5MB 2.5MB/s eta 0:00:01\n",
      "\u001b[?25hCollecting wikitextparser\n",
      "\u001b[?25l  Downloading https://files.pythonhosted.org/packages/35/52/12dd8fe69103a2acc48fcdad7fd1c78d29bd4a271b98bf6e36a52b382a69/wikitextparser-0.32.0-py3-none-any.whl (60kB)\n",
      "\u001b[K     |████████████████████████████████| 61kB 2.8MB/s eta 0:00:011\n",
      "\u001b[?25hRequirement already satisfied: wcwidth in /opt/conda/lib/python3.7/site-packages (from wikitextparser->wiktextract) (0.1.7)\n",
      "Collecting regex\n",
      "\u001b[?25l  Downloading https://files.pythonhosted.org/packages/49/6b/b8dbb406ff9c1df97ca591050ba9b7252b1b4d491555d182d463ea72cc11/regex-2020.2.20-cp37-cp37m-manylinux2010_x86_64.whl (689kB)\n",
      "\u001b[K     |████████████████████████████████| 696kB 5.6MB/s eta 0:00:01\n",
      "\u001b[?25hInstalling collected packages: lxml, regex, wikitextparser, wiktextract\n",
      "Successfully installed lxml-4.5.0 regex-2020.2.20 wikitextparser-0.32.0 wiktextract-0.2.0\n"
     ]
    }
   ],
   "source": [
    "!pip install wiktextract"
   ]
  },
  {
   "cell_type": "code",
   "execution_count": null,
   "metadata": {},
   "outputs": [],
   "source": []
  },
  {
   "cell_type": "code",
   "execution_count": 3,
   "metadata": {},
   "outputs": [
    {
     "ename": "ImportError",
     "evalue": "cannot import name 'WiktionaryConfig' from 'wiktextract' (/opt/conda/lib/python3.7/site-packages/wiktextract/__init__.py)",
     "output_type": "error",
     "traceback": [
      "\u001b[0;31m---------------------------------------------------------------------------\u001b[0m",
      "\u001b[0;31mImportError\u001b[0m                               Traceback (most recent call last)",
      "\u001b[0;32m<ipython-input-3-165a06321ffc>\u001b[0m in \u001b[0;36m<module>\u001b[0;34m\u001b[0m\n\u001b[0;32m----> 1\u001b[0;31m from wiktextract import (WiktionaryConfig, parse_wiktionary,\n\u001b[0m\u001b[1;32m      2\u001b[0m                          wiktionary_languages, PARTS_OF_SPEECH)\n\u001b[1;32m      3\u001b[0m \u001b[0;34m\u001b[0m\u001b[0m\n\u001b[1;32m      4\u001b[0m config = WiktionaryConfig(\n\u001b[1;32m      5\u001b[0m              \u001b[0mcapture_languages\u001b[0m\u001b[0;34m=\u001b[0m\u001b[0;34m[\u001b[0m\u001b[0;34m\"English\"\u001b[0m\u001b[0;34m,\u001b[0m \u001b[0;34m\"Translingual\"\u001b[0m\u001b[0;34m]\u001b[0m\u001b[0;34m,\u001b[0m\u001b[0;34m\u001b[0m\u001b[0;34m\u001b[0m\u001b[0m\n",
      "\u001b[0;31mImportError\u001b[0m: cannot import name 'WiktionaryConfig' from 'wiktextract' (/opt/conda/lib/python3.7/site-packages/wiktextract/__init__.py)"
     ]
    }
   ],
   "source": [
    "from wiktextract import (WiktionaryConfig, parse_wiktionary,\n",
    "                         wiktionary_languages, PARTS_OF_SPEECH)\n",
    "\n",
    "config = WiktionaryConfig(\n",
    "             capture_languages=[\"English\", \"Translingual\"],\n",
    "             capture_translations=True,\n",
    "             capture_pronunciation=True,\n",
    "             capture_linkages=True,\n",
    "             capture_compounds=True,\n",
    "             capture_redirects=True)\n",
    "# parse_wiktionary(path, config, word_cb, capture_cb)"
   ]
  },
  {
   "cell_type": "code",
   "execution_count": 4,
   "metadata": {},
   "outputs": [],
   "source": [
    "import wiktextract"
   ]
  },
  {
   "cell_type": "code",
   "execution_count": 5,
   "metadata": {},
   "outputs": [
    {
     "data": {
      "text/plain": [
       "['PARTS_OF_SPEECH',\n",
       " '__all__',\n",
       " '__builtins__',\n",
       " '__cached__',\n",
       " '__doc__',\n",
       " '__file__',\n",
       " '__loader__',\n",
       " '__name__',\n",
       " '__package__',\n",
       " '__path__',\n",
       " '__spec__',\n",
       " 'parse_wiktionary',\n",
       " 'wiktionary',\n",
       " 'wiktlangs']"
      ]
     },
     "execution_count": 5,
     "metadata": {},
     "output_type": "execute_result"
    }
   ],
   "source": [
    "dir(wiktextract)"
   ]
  },
  {
   "cell_type": "code",
   "execution_count": 8,
   "metadata": {},
   "outputs": [
    {
     "name": "stdout",
     "output_type": "stream",
     "text": [
      "^C\n"
     ]
    }
   ],
   "source": [
    "!wiktwords in/enwiktionary-latest-pages-articles.xml.bz2 --out output/wikt.en_du_it.words --language \"Old English\" "
   ]
  }
 ],
 "metadata": {
  "kernelspec": {
   "display_name": "Python 3",
   "language": "python",
   "name": "python3"
  },
  "language_info": {
   "codemirror_mode": {
    "name": "ipython",
    "version": 3
   },
   "file_extension": ".py",
   "mimetype": "text/x-python",
   "name": "python",
   "nbconvert_exporter": "python",
   "pygments_lexer": "ipython3",
   "version": "3.7.3"
  }
 },
 "nbformat": 4,
 "nbformat_minor": 4
}
