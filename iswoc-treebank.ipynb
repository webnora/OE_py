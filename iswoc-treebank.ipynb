{
 "cells": [
  {
   "cell_type": "code",
   "execution_count": 1,
   "metadata": {},
   "outputs": [],
   "source": [
    "import os\n",
    "import numpy as np\n",
    "import pandas as pd"
   ]
  },
  {
   "cell_type": "markdown",
   "metadata": {},
   "source": [
    "### CoNLL-X and CoNLL-U file readers and writers\n",
    "https://raw.githubusercontent.com/pnugues/ilppp/master/programs/labs/relation_extraction/python/conll.py"
   ]
  },
  {
   "cell_type": "code",
   "execution_count": 2,
   "metadata": {},
   "outputs": [],
   "source": [
    "## Returns all the files in a folder ending with suffix. Recursive version. Return the list of file names.\n",
    "def _get_files(dir = 'out', suffix = 'conll'):\n",
    "    files = []\n",
    "    for file in os.listdir(dir):\n",
    "        path = dir + '/' + file\n",
    "        if os.path.isdir(path):\n",
    "            files += get_files(path, suffix)\n",
    "        elif os.path.isfile(path) and file.endswith(suffix):\n",
    "            files.append(path)\n",
    "    return files"
   ]
  },
  {
   "cell_type": "markdown",
   "metadata": {},
   "source": [
    "Creates a list of sentences from the corpus.\n",
    "Each sentence is a string"
   ]
  },
  {
   "cell_type": "code",
   "execution_count": 3,
   "metadata": {},
   "outputs": [],
   "source": [
    "def read_sentences(file):\n",
    "    f = open(file).read().strip()\n",
    "    _sentences = f.split('\\n\\n')\n",
    "    return _sentences"
   ]
  },
  {
   "cell_type": "markdown",
   "metadata": {},
   "source": [
    "Creates a list of sentence where each sentence is a list of lines.\n",
    "Each line is a dictionary of columns."
   ]
  },
  {
   "cell_type": "code",
   "execution_count": 4,
   "metadata": {},
   "outputs": [],
   "source": [
    "# _column_names_2006 = ['id', 'form', 'lemma', 'cpostag', 'postag', 'feats', 'head', 'deprel', 'phead', 'pdeprel']\n",
    "# _column_names_u = ['id', 'form', 'lemma', 'upostag', 'xpostag', 'feats', 'head', 'deprel', 'deps', 'misc']\n",
    "def split_rows(sentences, column_names = ['id', 'form', 'lemma']):\n",
    "    new_sentences = []\n",
    "#     root_values = ['0', 'ROOT', 'ROOT', 'ROOT', 'ROOT', 'ROOT', '0', 'ROOT', '0', 'ROOT']\n",
    "#     start = [dict(zip(column_names, root_values))]\n",
    "    for sentence in sentences:\n",
    "        rows = sentence.split('\\n')\n",
    "        sentence = [dict(zip(column_names, row.split('\\t'))) for row in rows if row[0] != '#']\n",
    "#         sentence = start + sentence\n",
    "        new_sentences.append(sentence)\n",
    "    return new_sentences"
   ]
  },
  {
   "cell_type": "code",
   "execution_count": 5,
   "metadata": {
    "jupyter": {
     "source_hidden": true
    }
   },
   "outputs": [],
   "source": [
    "def _save(file, formatted_corpus, column_names):\n",
    "    f_out = open(file, 'w')\n",
    "    for sentence in formatted_corpus:\n",
    "        for row in sentence[1:]:\n",
    "            # print(row, flush=True)\n",
    "            for col in column_names[:-1]:\n",
    "                if col in row:\n",
    "                    f_out.write(row[col] + '\\t')\n",
    "                else:\n",
    "                    f_out.write('_\\t')\n",
    "            col = column_names[-1]\n",
    "            if col in row:\n",
    "                f_out.write(row[col] + '\\n')\n",
    "            else:\n",
    "                f_out.write('_\\n')\n",
    "        f_out.write('\\n')\n",
    "    f_out.close()"
   ]
  },
  {
   "cell_type": "code",
   "execution_count": 6,
   "metadata": {},
   "outputs": [
    {
     "data": {
      "text/plain": [
       "['æls', 'apt', 'chrona', 'or', 'wscp', 'eustace']"
      ]
     },
     "execution_count": 6,
     "metadata": {},
     "output_type": "execute_result"
    }
   ],
   "source": [
    "path_in = 'in/treebank/'\n",
    "files = open(path_in + 'index.txt').read().strip().split()\n",
    "files"
   ]
  },
  {
   "cell_type": "code",
   "execution_count": 7,
   "metadata": {},
   "outputs": [
    {
     "data": {
      "text/plain": [
       "2673"
      ]
     },
     "execution_count": 7,
     "metadata": {},
     "output_type": "execute_result"
    }
   ],
   "source": [
    "sentences = split_rows(np.concatenate(list((read_sentences(f) for f in (path_in + f + '.conll' for f in files)))))\n",
    "len(sentences)"
   ]
  },
  {
   "cell_type": "code",
   "execution_count": 8,
   "metadata": {},
   "outputs": [
    {
     "data": {
      "text/html": [
       "<div>\n",
       "<style scoped>\n",
       "    .dataframe tbody tr th:only-of-type {\n",
       "        vertical-align: middle;\n",
       "    }\n",
       "\n",
       "    .dataframe tbody tr th {\n",
       "        vertical-align: top;\n",
       "    }\n",
       "\n",
       "    .dataframe thead th {\n",
       "        text-align: right;\n",
       "    }\n",
       "</style>\n",
       "<table border=\"1\" class=\"dataframe\">\n",
       "  <thead>\n",
       "    <tr style=\"text-align: right;\">\n",
       "      <th></th>\n",
       "      <th>id</th>\n",
       "      <th>form</th>\n",
       "      <th>lemma</th>\n",
       "    </tr>\n",
       "  </thead>\n",
       "  <tbody>\n",
       "    <tr>\n",
       "      <th>0</th>\n",
       "      <td>1</td>\n",
       "      <td>Mæg</td>\n",
       "      <td>mag</td>\n",
       "    </tr>\n",
       "    <tr>\n",
       "      <th>1</th>\n",
       "      <td>2</td>\n",
       "      <td>gehyran</td>\n",
       "      <td>gehyran</td>\n",
       "    </tr>\n",
       "    <tr>\n",
       "      <th>2</th>\n",
       "      <td>3</td>\n",
       "      <td>se</td>\n",
       "      <td>se</td>\n",
       "    </tr>\n",
       "    <tr>\n",
       "      <th>3</th>\n",
       "      <td>4</td>\n",
       "      <td>ðe</td>\n",
       "      <td>þe</td>\n",
       "    </tr>\n",
       "    <tr>\n",
       "      <th>4</th>\n",
       "      <td>5</td>\n",
       "      <td>wyle</td>\n",
       "      <td>willan</td>\n",
       "    </tr>\n",
       "    <tr>\n",
       "      <th>5</th>\n",
       "      <td>6</td>\n",
       "      <td>be</td>\n",
       "      <td>be</td>\n",
       "    </tr>\n",
       "    <tr>\n",
       "      <th>6</th>\n",
       "      <td>7</td>\n",
       "      <td>þam</td>\n",
       "      <td>se</td>\n",
       "    </tr>\n",
       "    <tr>\n",
       "      <th>7</th>\n",
       "      <td>8</td>\n",
       "      <td>halgan</td>\n",
       "      <td>halig</td>\n",
       "    </tr>\n",
       "    <tr>\n",
       "      <th>8</th>\n",
       "      <td>9</td>\n",
       "      <td>mædene</td>\n",
       "      <td>mægden</td>\n",
       "    </tr>\n",
       "    <tr>\n",
       "      <th>9</th>\n",
       "      <td>10</td>\n",
       "      <td>Eugenian</td>\n",
       "      <td>Eugenia</td>\n",
       "    </tr>\n",
       "    <tr>\n",
       "      <th>10</th>\n",
       "      <td>11</td>\n",
       "      <td>Philyppus</td>\n",
       "      <td>Philippus</td>\n",
       "    </tr>\n",
       "    <tr>\n",
       "      <th>11</th>\n",
       "      <td>12</td>\n",
       "      <td>dæhter</td>\n",
       "      <td>dohtor</td>\n",
       "    </tr>\n",
       "    <tr>\n",
       "      <th>12</th>\n",
       "      <td>13</td>\n",
       "      <td>hu</td>\n",
       "      <td>hu</td>\n",
       "    </tr>\n",
       "    <tr>\n",
       "      <th>13</th>\n",
       "      <td>14</td>\n",
       "      <td>heo</td>\n",
       "      <td>heo</td>\n",
       "    </tr>\n",
       "    <tr>\n",
       "      <th>14</th>\n",
       "      <td>15</td>\n",
       "      <td>ðurh</td>\n",
       "      <td>þurh</td>\n",
       "    </tr>\n",
       "    <tr>\n",
       "      <th>15</th>\n",
       "      <td>16</td>\n",
       "      <td>mægðhad</td>\n",
       "      <td>mægþhad</td>\n",
       "    </tr>\n",
       "    <tr>\n",
       "      <th>16</th>\n",
       "      <td>17</td>\n",
       "      <td>mærlice</td>\n",
       "      <td>mærlice</td>\n",
       "    </tr>\n",
       "    <tr>\n",
       "      <th>17</th>\n",
       "      <td>18</td>\n",
       "      <td>þeah</td>\n",
       "      <td>þeon</td>\n",
       "    </tr>\n",
       "    <tr>\n",
       "      <th>18</th>\n",
       "      <td>19</td>\n",
       "      <td>and</td>\n",
       "      <td>and</td>\n",
       "    </tr>\n",
       "    <tr>\n",
       "      <th>19</th>\n",
       "      <td>20</td>\n",
       "      <td>þurh</td>\n",
       "      <td>þurh</td>\n",
       "    </tr>\n",
       "    <tr>\n",
       "      <th>20</th>\n",
       "      <td>21</td>\n",
       "      <td>martyrdom</td>\n",
       "      <td>martyrdom</td>\n",
       "    </tr>\n",
       "    <tr>\n",
       "      <th>21</th>\n",
       "      <td>22</td>\n",
       "      <td>þisne</td>\n",
       "      <td>þes</td>\n",
       "    </tr>\n",
       "    <tr>\n",
       "      <th>22</th>\n",
       "      <td>23</td>\n",
       "      <td>middaneard</td>\n",
       "      <td>middangeard</td>\n",
       "    </tr>\n",
       "    <tr>\n",
       "      <th>23</th>\n",
       "      <td>24</td>\n",
       "      <td>oferswað</td>\n",
       "      <td>oferswiðan</td>\n",
       "    </tr>\n",
       "  </tbody>\n",
       "</table>\n",
       "</div>"
      ],
      "text/plain": [
       "    id        form        lemma\n",
       "0    1         Mæg          mag\n",
       "1    2     gehyran      gehyran\n",
       "2    3          se           se\n",
       "3    4          ðe           þe\n",
       "4    5        wyle       willan\n",
       "5    6          be           be\n",
       "6    7         þam           se\n",
       "7    8      halgan        halig\n",
       "8    9      mædene       mægden\n",
       "9   10    Eugenian      Eugenia\n",
       "10  11   Philyppus    Philippus\n",
       "11  12      dæhter       dohtor\n",
       "12  13          hu           hu\n",
       "13  14         heo          heo\n",
       "14  15        ðurh         þurh\n",
       "15  16     mægðhad      mægþhad\n",
       "16  17     mærlice      mærlice\n",
       "17  18        þeah         þeon\n",
       "18  19         and          and\n",
       "19  20        þurh         þurh\n",
       "20  21   martyrdom    martyrdom\n",
       "21  22       þisne          þes\n",
       "22  23  middaneard  middangeard\n",
       "23  24    oferswað   oferswiðan"
      ]
     },
     "execution_count": 8,
     "metadata": {},
     "output_type": "execute_result"
    }
   ],
   "source": [
    "pd.DataFrame(sentences[0])"
   ]
  },
  {
   "cell_type": "code",
   "execution_count": 9,
   "metadata": {},
   "outputs": [
    {
     "name": "stdout",
     "output_type": "stream",
     "text": [
      "form   ->  Mæg gehyran se ðe wyle be þam halgan mædene Eugenian Philyppus dæhter hu heo ðurh mægðhad mærlice þeah and þurh martyrdom þisne middaneard oferswað\n",
      "lemma - >  mag gehyran se þe willan be se halig mægden Eugenia Philippus dohtor hu heo þurh mægþhad mærlice þeon and þurh martyrdom þes middangeard oferswiðan\n"
     ]
    }
   ],
   "source": [
    "def get_sentence(sentence, column = 'form'):\n",
    "    return ' '.join((w[column] for w in sentence)) #[1:]\n",
    "print('form   -> ', get_sentence(sentences[0]))\n",
    "print('lemma - > ', get_sentence(sentences[0], 'lemma'))"
   ]
  },
  {
   "cell_type": "code",
   "execution_count": 10,
   "metadata": {},
   "outputs": [
    {
     "data": {
      "text/html": [
       "<div>\n",
       "<style scoped>\n",
       "    .dataframe tbody tr th:only-of-type {\n",
       "        vertical-align: middle;\n",
       "    }\n",
       "\n",
       "    .dataframe tbody tr th {\n",
       "        vertical-align: top;\n",
       "    }\n",
       "\n",
       "    .dataframe thead th {\n",
       "        text-align: right;\n",
       "    }\n",
       "</style>\n",
       "<table border=\"1\" class=\"dataframe\">\n",
       "  <thead>\n",
       "    <tr style=\"text-align: right;\">\n",
       "      <th></th>\n",
       "      <th>0</th>\n",
       "      <th>1</th>\n",
       "    </tr>\n",
       "  </thead>\n",
       "  <tbody>\n",
       "    <tr>\n",
       "      <th>0</th>\n",
       "      <td>Mæg gehyran se ðe wyle be þam halgan mædene Eu...</td>\n",
       "      <td>mag gehyran se þe willan be se halig mægden Eu...</td>\n",
       "    </tr>\n",
       "    <tr>\n",
       "      <th>1</th>\n",
       "      <td>Sum æþelboren þægn wæs Philippus gehaten ðone ...</td>\n",
       "      <td>sum æþelboren þegen wesan Philippus gehatan se...</td>\n",
       "    </tr>\n",
       "    <tr>\n",
       "      <th>2</th>\n",
       "      <td>And he hine gesette to heahgerefan ofer Alexan...</td>\n",
       "      <td>and he he gesettan to heahgerefa ofer Alexandr...</td>\n",
       "    </tr>\n",
       "    <tr>\n",
       "      <th>3</th>\n",
       "      <td>Ðæs ðægn Philippus n æs na gefullod on Gode fo...</td>\n",
       "      <td>þes þegen Philippus ne wesan na gefullian on G...</td>\n",
       "    </tr>\n",
       "    <tr>\n",
       "      <th>4</th>\n",
       "      <td>His wif wæs gecyged Claudia be þære he gestryn...</td>\n",
       "      <td>his wif wesan gecigan Claudia be se he gestryn...</td>\n",
       "    </tr>\n",
       "    <tr>\n",
       "      <th>...</th>\n",
       "      <td>...</td>\n",
       "      <td>...</td>\n",
       "    </tr>\n",
       "    <tr>\n",
       "      <th>2668</th>\n",
       "      <td>car je les aim ore mielz a soffrir</td>\n",
       "      <td>car je le amer or bon a sofrir</td>\n",
       "    </tr>\n",
       "    <tr>\n",
       "      <th>2669</th>\n",
       "      <td>mes done moi pooir e force de pacience que mes...</td>\n",
       "      <td>mais doner je pooir et force de pacience que m...</td>\n",
       "    </tr>\n",
       "    <tr>\n",
       "      <th>2670</th>\n",
       "      <td>Nostre Sires li respondi</td>\n",
       "      <td>nostre sieur il respondre</td>\n",
       "    </tr>\n",
       "    <tr>\n",
       "      <th>2671</th>\n",
       "      <td>Eustace soies forz e vainquerres</td>\n",
       "      <td>Eustace estre fort et veinqueor</td>\n",
       "    </tr>\n",
       "    <tr>\n",
       "      <th>2672</th>\n",
       "      <td>car ma grace sera toz jorz avec vos qui garder...</td>\n",
       "      <td>car ma grace estre tot jor avec vos que garder...</td>\n",
       "    </tr>\n",
       "  </tbody>\n",
       "</table>\n",
       "<p>2673 rows × 2 columns</p>\n",
       "</div>"
      ],
      "text/plain": [
       "                                                      0  \\\n",
       "0     Mæg gehyran se ðe wyle be þam halgan mædene Eu...   \n",
       "1     Sum æþelboren þægn wæs Philippus gehaten ðone ...   \n",
       "2     And he hine gesette to heahgerefan ofer Alexan...   \n",
       "3     Ðæs ðægn Philippus n æs na gefullod on Gode fo...   \n",
       "4     His wif wæs gecyged Claudia be þære he gestryn...   \n",
       "...                                                 ...   \n",
       "2668                 car je les aim ore mielz a soffrir   \n",
       "2669  mes done moi pooir e force de pacience que mes...   \n",
       "2670                           Nostre Sires li respondi   \n",
       "2671                   Eustace soies forz e vainquerres   \n",
       "2672  car ma grace sera toz jorz avec vos qui garder...   \n",
       "\n",
       "                                                      1  \n",
       "0     mag gehyran se þe willan be se halig mægden Eu...  \n",
       "1     sum æþelboren þegen wesan Philippus gehatan se...  \n",
       "2     and he he gesettan to heahgerefa ofer Alexandr...  \n",
       "3     þes þegen Philippus ne wesan na gefullian on G...  \n",
       "4     his wif wesan gecigan Claudia be se he gestryn...  \n",
       "...                                                 ...  \n",
       "2668                     car je le amer or bon a sofrir  \n",
       "2669  mais doner je pooir et force de pacience que m...  \n",
       "2670                          nostre sieur il respondre  \n",
       "2671                    Eustace estre fort et veinqueor  \n",
       "2672  car ma grace estre tot jor avec vos que garder...  \n",
       "\n",
       "[2673 rows x 2 columns]"
      ]
     },
     "execution_count": 10,
     "metadata": {},
     "output_type": "execute_result"
    }
   ],
   "source": [
    "data = pd.DataFrame(((get_sentence(s), get_sentence(s, 'lemma')) for s in sentences))\n",
    "data.to_csv('data/iswoc-treebank.tsv', '\\t', index=False)\n",
    "data"
   ]
  },
  {
   "cell_type": "code",
   "execution_count": null,
   "metadata": {},
   "outputs": [],
   "source": []
  }
 ],
 "metadata": {
  "kernelspec": {
   "display_name": "Python 3",
   "language": "python",
   "name": "python3"
  },
  "language_info": {
   "codemirror_mode": {
    "name": "ipython",
    "version": 3
   },
   "file_extension": ".py",
   "mimetype": "text/x-python",
   "name": "python",
   "nbconvert_exporter": "python",
   "pygments_lexer": "ipython3",
   "version": "3.7.3"
  }
 },
 "nbformat": 4,
 "nbformat_minor": 4
}
